{
  "nbformat": 4,
  "nbformat_minor": 0,
  "metadata": {
    "colab": {
      "name": "Tweet Sentiment Analysis using NLP.ipynb",
      "provenance": [],
      "collapsed_sections": [],
      "authorship_tag": "ABX9TyPnBH19OymMt8QIvj7odvoX",
      "include_colab_link": true
    },
    "kernelspec": {
      "name": "python3",
      "display_name": "Python 3"
    }
  },
  "cells": [
    {
      "cell_type": "markdown",
      "metadata": {
        "id": "view-in-github",
        "colab_type": "text"
      },
      "source": [
        "<a href=\"https://colab.research.google.com/github/Kavya2905/Tweet-Sentiment-Analysis/blob/main/Tweet_Sentiment_Analysis_using_NLP.ipynb\" target=\"_parent\"><img src=\"https://colab.research.google.com/assets/colab-badge.svg\" alt=\"Open In Colab\"/></a>"
      ]
    },
    {
      "cell_type": "code",
      "metadata": {
        "id": "UBhPbo4-vjvP"
      },
      "source": [
        "### Obtain API and Access Token keys from Twitter Developer\n",
        "\n",
        "api = \"cFip36XiEXonytd1YOAQedmGz\"\n",
        "api_secret = \"upM3vf7eCEh96kN6ebdXeh5kGgq7nK2hOTtPTpXUqgizsK3r6n\"\n",
        "access_token = \"1329791657814855680-ALqSrJbAsLXHqgGOMqErrnOWxhu67r\"\n",
        "access_token_secret = \"WzR98wFHbGk2zGqt9jUgxr3tabumGRwbkyxid2yHyYkOB\""
      ],
      "execution_count": null,
      "outputs": []
    },
    {
      "cell_type": "code",
      "metadata": {
        "id": "Q65Hz5iZwPHl"
      },
      "source": [
        "### Importing library\n",
        "\n",
        "import tweepy"
      ],
      "execution_count": null,
      "outputs": []
    },
    {
      "cell_type": "code",
      "metadata": {
        "id": "j585p4QfwhT3"
      },
      "source": [
        "auth = tweepy.OAuthHandler(api, api_secret)\n",
        "auth.set_access_token(access_token, access_token_secret)"
      ],
      "execution_count": null,
      "outputs": []
    },
    {
      "cell_type": "code",
      "metadata": {
        "id": "sKlpHdTuxC13"
      },
      "source": [
        "api = tweepy.API(auth)"
      ],
      "execution_count": null,
      "outputs": []
    },
    {
      "cell_type": "code",
      "metadata": {
        "id": "ZIUpdAkZxHGJ"
      },
      "source": [
        "tweets = api.search(\"farmers\")\n",
        "tweets"
      ],
      "execution_count": null,
      "outputs": []
    },
    {
      "cell_type": "code",
      "metadata": {
        "id": "QlP1AR3ExooO"
      },
      "source": [
        "tweets[0].text"
      ],
      "execution_count": null,
      "outputs": []
    },
    {
      "cell_type": "code",
      "metadata": {
        "id": "dgiyjDjmyCHs"
      },
      "source": [
        "### Importing libraries for Sentiment Analysis\n",
        "\n",
        "import nltk\n",
        "nltk.download('vader_lexicon')\n",
        "from nltk.sentiment.vader import SentimentIntensityAnalyzer\n",
        "sia = SentimentIntensityAnalyzer()"
      ],
      "execution_count": null,
      "outputs": []
    },
    {
      "cell_type": "code",
      "metadata": {
        "id": "3w14XNm_ytXn"
      },
      "source": [
        "### Evaluating the emotion\n",
        "\n",
        "sia.polarity_scores(tweets[0].text)"
      ],
      "execution_count": null,
      "outputs": []
    }
  ]
}